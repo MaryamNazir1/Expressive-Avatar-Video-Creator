{
  "cells": [
    {
      "cell_type": "code",
      "execution_count": 14,
      "metadata": {
        "colab": {
          "base_uri": "https://localhost:8080/"
        },
        "id": "EPhfXksE36wO",
        "outputId": "fa63585b-20bf-47e8-8296-57e9c332db43"
      },
      "outputs": [
        {
          "output_type": "stream",
          "name": "stdout",
          "text": [
            "Drive already mounted at /content/drive; to attempt to forcibly remount, call drive.mount(\"/content/drive\", force_remount=True).\n"
          ]
        }
      ],
      "source": [
        "from google.colab import drive\n",
        "drive.mount('/content/drive')"
      ]
    },
    {
      "cell_type": "code",
      "execution_count": 15,
      "metadata": {
        "colab": {
          "base_uri": "https://localhost:8080/"
        },
        "id": "xXY15B484nnz",
        "outputId": "089d4a54-bac2-4a66-fe19-634e80f071ae"
      },
      "outputs": [
        {
          "output_type": "stream",
          "name": "stdout",
          "text": [
            "/content/drive/MyDrive\n"
          ]
        }
      ],
      "source": [
        "%cd /content/drive/MyDrive/"
      ]
    },
    {
      "cell_type": "code",
      "execution_count": 16,
      "metadata": {
        "colab": {
          "base_uri": "https://localhost:8080/"
        },
        "id": "GWOHWCMe4sGE",
        "outputId": "7298b607-da07-4016-a850-a69c5f8f99a4"
      },
      "outputs": [
        {
          "output_type": "stream",
          "name": "stdout",
          "text": [
            "fatal: destination path 'EDTalk' already exists and is not an empty directory.\n"
          ]
        }
      ],
      "source": [
        "!git clone https://github.com/tanshuai0219/EDTalk"
      ]
    },
    {
      "cell_type": "code",
      "execution_count": 17,
      "metadata": {
        "colab": {
          "base_uri": "https://localhost:8080/"
        },
        "id": "QYmfipPO4w-y",
        "outputId": "72606e4f-b9a7-491f-ab7b-bf692763deba"
      },
      "outputs": [
        {
          "output_type": "stream",
          "name": "stdout",
          "text": [
            "/content/drive/MyDrive/EDTalk\n"
          ]
        }
      ],
      "source": [
        "%cd /content/drive/MyDrive/EDTalk"
      ]
    },
    {
      "cell_type": "code",
      "execution_count": 18,
      "metadata": {
        "colab": {
          "base_uri": "https://localhost:8080/"
        },
        "id": "bQfUux5F41y1",
        "outputId": "088c1807-217f-4594-8b9b-71c622143eda"
      },
      "outputs": [
        {
          "output_type": "stream",
          "name": "stdout",
          "text": [
            "angry.mp3\t\t\t\t       demo_lip_pose.py        LICENSE.txt\n",
            "app.py\t\t\t\t\t       demo_lip_pose_V.py      networks\n",
            "assets\t\t\t\t\t       dlib\t\t       packages.txt\n",
            "audio.py\t\t\t\t       face_detection\t       __pycache__\n",
            "ckpts\t\t\t\t\t       face_sr\t\t       README.md\n",
            "ckpts.zip\t\t\t\t       fear.mp3\t\t       requirements.txt\n",
            "code_for_webui\t\t\t\t       fine_tune\t       requirements_windows.txt\n",
            "crop_identity_source.jpg\t\t       get-pip.py\t       res\n",
            "data\t\t\t\t\t       get-pip.py.1\t       resample_angry.wav\n",
            "data_preprocess\t\t\t\t       get-pip.py.2\t       script_install_dlib\n",
            "datasets\t\t\t\t       get-pip.py.3\t       test_data\n",
            "demo_change_a_video_lip.py\t\t       get-pip.py.4\t       train\n",
            "demo_EDTalk_A.py\t\t\t       gfpgan\t\t       train_fine_tune.py\n",
            "demo_EDTalk_A_using_predefined_exp_weights.py  gradio_cached_examples  webui_emotions_opemxlab.py\n",
            "demo_EDTalk_V.py\t\t\t       hparams.py\t       webui_emotions.py\n",
            "demo_EDTalk_V_using_predefined_exp_weights.py  identity_source.jpg     yourfile.zip\n"
          ]
        }
      ],
      "source": [
        "!ls"
      ]
    },
    {
      "cell_type": "code",
      "execution_count": 19,
      "metadata": {
        "colab": {
          "base_uri": "https://localhost:8080/"
        },
        "id": "aWOm-hXj47xI",
        "outputId": "c30a3969-7983-4408-f487-fbd55b1f6759"
      },
      "outputs": [
        {
          "output_type": "stream",
          "name": "stdout",
          "text": [
            "\r0% [Working]\r            \rHit:1 https://cloud.r-project.org/bin/linux/ubuntu jammy-cran40/ InRelease\n",
            "Hit:2 https://developer.download.nvidia.com/compute/cuda/repos/ubuntu2204/x86_64  InRelease\n",
            "Hit:3 http://security.ubuntu.com/ubuntu jammy-security InRelease\n",
            "Ign:4 https://r2u.stat.illinois.edu/ubuntu jammy InRelease\n",
            "Hit:5 http://archive.ubuntu.com/ubuntu jammy InRelease\n",
            "Hit:6 https://r2u.stat.illinois.edu/ubuntu jammy Release\n",
            "Hit:7 http://archive.ubuntu.com/ubuntu jammy-updates InRelease\n",
            "Hit:9 http://archive.ubuntu.com/ubuntu jammy-backports InRelease\n",
            "Hit:10 https://ppa.launchpadcontent.net/deadsnakes/ppa/ubuntu jammy InRelease\n",
            "Hit:11 https://ppa.launchpadcontent.net/graphics-drivers/ppa/ubuntu jammy InRelease\n",
            "Hit:12 https://ppa.launchpadcontent.net/ubuntugis/ppa/ubuntu jammy InRelease\n",
            "Reading package lists... Done\n",
            "W: Skipping acquire of configured file 'main/source/Sources' as repository 'https://r2u.stat.illinois.edu/ubuntu jammy InRelease' does not seem to provide it (sources.list entry misspelt?)\n",
            "Reading package lists... Done\n",
            "Building dependency tree... Done\n",
            "Reading state information... Done\n",
            "python3.8 is already the newest version (3.8.20-1+jammy1).\n",
            "0 upgraded, 0 newly installed, 0 to remove and 53 not upgraded.\n",
            "Reading package lists... Done\n",
            "Building dependency tree... Done\n",
            "Reading state information... Done\n",
            "python3.8-distutils is already the newest version (3.8.20-1+jammy1).\n",
            "0 upgraded, 0 newly installed, 0 to remove and 53 not upgraded.\n",
            "Reading package lists... Done\n",
            "Building dependency tree... Done\n",
            "Reading state information... Done\n",
            "ffmpeg is already the newest version (7:4.4.2-0ubuntu0.22.04.1).\n",
            "0 upgraded, 0 newly installed, 0 to remove and 53 not upgraded.\n",
            "--2024-09-19 13:09:35--  https://bootstrap.pypa.io/get-pip.py\n",
            "Resolving bootstrap.pypa.io (bootstrap.pypa.io)... 151.101.0.175, 151.101.64.175, 151.101.128.175, ...\n",
            "Connecting to bootstrap.pypa.io (bootstrap.pypa.io)|151.101.0.175|:443... connected.\n",
            "HTTP request sent, awaiting response... 200 OK\n",
            "Length: 2266947 (2.2M) [text/x-python]\n",
            "Saving to: ‘get-pip.py.5’\n",
            "\n",
            "get-pip.py.5        100%[===================>]   2.16M  --.-KB/s    in 0.06s   \n",
            "\n",
            "2024-09-19 13:09:35 (35.4 MB/s) - ‘get-pip.py.5’ saved [2266947/2266947]\n",
            "\n",
            "Collecting pip\n",
            "  Using cached pip-24.2-py3-none-any.whl.metadata (3.6 kB)\n",
            "Using cached pip-24.2-py3-none-any.whl (1.8 MB)\n",
            "Installing collected packages: pip\n",
            "  Attempting uninstall: pip\n",
            "    Found existing installation: pip 24.2\n",
            "    Uninstalling pip-24.2:\n",
            "      Successfully uninstalled pip-24.2\n",
            "Successfully installed pip-24.2\n",
            "There is only one alternative in link group python3 (providing /usr/bin/python3): /usr/bin/python3.8\n",
            "Nothing to configure.\n",
            "Python 3.8.20\n"
          ]
        }
      ],
      "source": [
        "!apt-get update -y\n",
        "!apt-get install python3.8\n",
        "!apt-get install python3.8-distutils\n",
        "!apt-get install ffmpeg\n",
        "!wget https://bootstrap.pypa.io/get-pip.py\n",
        "!python3.8 get-pip.py\n",
        "!update-alternatives --install /usr/bin/python3 python3 /usr/bin/python3.8 1\n",
        "!update-alternatives --config python3\n",
        "!python --version"
      ]
    },
    {
      "cell_type": "code",
      "execution_count": 20,
      "metadata": {
        "colab": {
          "base_uri": "https://localhost:8080/"
        },
        "id": "Ze-2g1ii5IkS",
        "outputId": "85b38605-9424-48ec-b9cf-b76fa2a6734b"
      },
      "outputs": [
        {
          "output_type": "stream",
          "name": "stdout",
          "text": [
            "Looking in indexes: https://pypi.org/simple, https://download.pytorch.org/whl/cu113\n",
            "Requirement already satisfied: torch==1.10.0+cu113 in /usr/local/lib/python3.8/dist-packages (from -r requirements_windows.txt (line 2)) (1.10.0+cu113)\n",
            "Requirement already satisfied: torchvision==0.11.0+cu113 in /usr/local/lib/python3.8/dist-packages (from -r requirements_windows.txt (line 3)) (0.11.0+cu113)\n",
            "Requirement already satisfied: tensorboard==2.11.2 in /usr/local/lib/python3.8/dist-packages (from -r requirements_windows.txt (line 5)) (2.11.2)\n",
            "Requirement already satisfied: av==9.2.0 in /usr/local/lib/python3.8/dist-packages (from -r requirements_windows.txt (line 6)) (9.2.0)\n",
            "Requirement already satisfied: numba==0.48 in /usr/local/lib/python3.8/dist-packages (from -r requirements_windows.txt (line 7)) (0.48.0)\n",
            "Requirement already satisfied: numpy==1.23.0 in /usr/local/lib/python3.8/dist-packages (from -r requirements_windows.txt (line 8)) (1.23.0)\n",
            "Requirement already satisfied: tqdm==4.66.4 in /usr/local/lib/python3.8/dist-packages (from -r requirements_windows.txt (line 9)) (4.66.4)\n",
            "Requirement already satisfied: librosa==0.8.1 in /usr/local/lib/python3.8/dist-packages (from -r requirements_windows.txt (line 10)) (0.8.1)\n",
            "Requirement already satisfied: imageio-ffmpeg==0.5.1 in /usr/local/lib/python3.8/dist-packages (from -r requirements_windows.txt (line 11)) (0.5.1)\n",
            "Requirement already satisfied: moviepy==1.0.3 in /usr/local/lib/python3.8/dist-packages (from -r requirements_windows.txt (line 12)) (1.0.3)\n",
            "Requirement already satisfied: gradio in /usr/local/lib/python3.8/dist-packages (from -r requirements_windows.txt (line 13)) (4.44.0)\n",
            "Requirement already satisfied: typing-extensions in /usr/local/lib/python3.8/dist-packages (from torch==1.10.0+cu113->-r requirements_windows.txt (line 2)) (4.12.2)\n",
            "Requirement already satisfied: pillow!=8.3.0,>=5.3.0 in /usr/local/lib/python3.8/dist-packages (from torchvision==0.11.0+cu113->-r requirements_windows.txt (line 3)) (10.4.0)\n",
            "Requirement already satisfied: absl-py>=0.4 in /usr/local/lib/python3.8/dist-packages (from tensorboard==2.11.2->-r requirements_windows.txt (line 5)) (2.1.0)\n",
            "Requirement already satisfied: grpcio>=1.24.3 in /usr/local/lib/python3.8/dist-packages (from tensorboard==2.11.2->-r requirements_windows.txt (line 5)) (1.66.1)\n",
            "Requirement already satisfied: google-auth<3,>=1.6.3 in /usr/local/lib/python3.8/dist-packages (from tensorboard==2.11.2->-r requirements_windows.txt (line 5)) (2.34.0)\n",
            "Requirement already satisfied: google-auth-oauthlib<0.5,>=0.4.1 in /usr/local/lib/python3.8/dist-packages (from tensorboard==2.11.2->-r requirements_windows.txt (line 5)) (0.4.6)\n",
            "Requirement already satisfied: markdown>=2.6.8 in /usr/local/lib/python3.8/dist-packages (from tensorboard==2.11.2->-r requirements_windows.txt (line 5)) (3.7)\n",
            "Requirement already satisfied: protobuf<4,>=3.9.2 in /usr/local/lib/python3.8/dist-packages (from tensorboard==2.11.2->-r requirements_windows.txt (line 5)) (3.20.3)\n",
            "Requirement already satisfied: requests<3,>=2.21.0 in /usr/local/lib/python3.8/dist-packages (from tensorboard==2.11.2->-r requirements_windows.txt (line 5)) (2.32.3)\n",
            "Requirement already satisfied: setuptools>=41.0.0 in /usr/local/lib/python3.8/dist-packages (from tensorboard==2.11.2->-r requirements_windows.txt (line 5)) (75.1.0)\n",
            "Requirement already satisfied: tensorboard-data-server<0.7.0,>=0.6.0 in /usr/local/lib/python3.8/dist-packages (from tensorboard==2.11.2->-r requirements_windows.txt (line 5)) (0.6.1)\n",
            "Requirement already satisfied: tensorboard-plugin-wit>=1.6.0 in /usr/local/lib/python3.8/dist-packages (from tensorboard==2.11.2->-r requirements_windows.txt (line 5)) (1.8.1)\n",
            "Requirement already satisfied: werkzeug>=1.0.1 in /usr/local/lib/python3.8/dist-packages (from tensorboard==2.11.2->-r requirements_windows.txt (line 5)) (3.0.4)\n",
            "Requirement already satisfied: wheel>=0.26 in /usr/local/lib/python3.8/dist-packages (from tensorboard==2.11.2->-r requirements_windows.txt (line 5)) (0.44.0)\n",
            "Requirement already satisfied: llvmlite<0.32.0,>=0.31.0dev0 in /usr/local/lib/python3.8/dist-packages (from numba==0.48->-r requirements_windows.txt (line 7)) (0.31.0)\n",
            "Requirement already satisfied: audioread>=2.0.0 in /usr/local/lib/python3.8/dist-packages (from librosa==0.8.1->-r requirements_windows.txt (line 10)) (3.0.1)\n",
            "Requirement already satisfied: scipy>=1.0.0 in /usr/local/lib/python3.8/dist-packages (from librosa==0.8.1->-r requirements_windows.txt (line 10)) (1.10.1)\n",
            "Requirement already satisfied: scikit-learn!=0.19.0,>=0.14.0 in /usr/local/lib/python3.8/dist-packages (from librosa==0.8.1->-r requirements_windows.txt (line 10)) (1.3.2)\n",
            "Requirement already satisfied: joblib>=0.14 in /usr/local/lib/python3.8/dist-packages (from librosa==0.8.1->-r requirements_windows.txt (line 10)) (1.4.2)\n",
            "Requirement already satisfied: decorator>=3.0.0 in /usr/local/lib/python3.8/dist-packages (from librosa==0.8.1->-r requirements_windows.txt (line 10)) (4.4.2)\n",
            "Requirement already satisfied: resampy>=0.2.2 in /usr/local/lib/python3.8/dist-packages (from librosa==0.8.1->-r requirements_windows.txt (line 10)) (0.3.1)\n",
            "Requirement already satisfied: soundfile>=0.10.2 in /usr/local/lib/python3.8/dist-packages (from librosa==0.8.1->-r requirements_windows.txt (line 10)) (0.12.1)\n",
            "Requirement already satisfied: pooch>=1.0 in /usr/local/lib/python3.8/dist-packages (from librosa==0.8.1->-r requirements_windows.txt (line 10)) (1.8.2)\n",
            "Requirement already satisfied: packaging>=20.0 in /usr/local/lib/python3.8/dist-packages (from librosa==0.8.1->-r requirements_windows.txt (line 10)) (24.1)\n",
            "Requirement already satisfied: proglog<=1.0.0 in /usr/local/lib/python3.8/dist-packages (from moviepy==1.0.3->-r requirements_windows.txt (line 12)) (0.1.10)\n",
            "Requirement already satisfied: imageio<3.0,>=2.5 in /usr/local/lib/python3.8/dist-packages (from moviepy==1.0.3->-r requirements_windows.txt (line 12)) (2.35.1)\n",
            "Requirement already satisfied: aiofiles<24.0,>=22.0 in /usr/local/lib/python3.8/dist-packages (from gradio->-r requirements_windows.txt (line 13)) (23.2.1)\n",
            "Requirement already satisfied: anyio<5.0,>=3.0 in /usr/local/lib/python3.8/dist-packages (from gradio->-r requirements_windows.txt (line 13)) (4.5.0)\n",
            "Requirement already satisfied: fastapi<1.0 in /usr/local/lib/python3.8/dist-packages (from gradio->-r requirements_windows.txt (line 13)) (0.115.0)\n",
            "Requirement already satisfied: ffmpy in /usr/local/lib/python3.8/dist-packages (from gradio->-r requirements_windows.txt (line 13)) (0.4.0)\n",
            "Requirement already satisfied: gradio-client==1.3.0 in /usr/local/lib/python3.8/dist-packages (from gradio->-r requirements_windows.txt (line 13)) (1.3.0)\n",
            "Requirement already satisfied: httpx>=0.24.1 in /usr/local/lib/python3.8/dist-packages (from gradio->-r requirements_windows.txt (line 13)) (0.27.2)\n",
            "Requirement already satisfied: huggingface-hub>=0.19.3 in /usr/local/lib/python3.8/dist-packages (from gradio->-r requirements_windows.txt (line 13)) (0.25.0)\n",
            "Requirement already satisfied: importlib-resources<7.0,>=1.3 in /usr/local/lib/python3.8/dist-packages (from gradio->-r requirements_windows.txt (line 13)) (6.4.5)\n",
            "Requirement already satisfied: jinja2<4.0 in /usr/local/lib/python3.8/dist-packages (from gradio->-r requirements_windows.txt (line 13)) (3.1.4)\n",
            "Requirement already satisfied: markupsafe~=2.0 in /usr/local/lib/python3.8/dist-packages (from gradio->-r requirements_windows.txt (line 13)) (2.1.5)\n",
            "Requirement already satisfied: matplotlib~=3.0 in /usr/local/lib/python3.8/dist-packages (from gradio->-r requirements_windows.txt (line 13)) (3.7.5)\n",
            "Requirement already satisfied: orjson~=3.0 in /usr/local/lib/python3.8/dist-packages (from gradio->-r requirements_windows.txt (line 13)) (3.10.7)\n",
            "Requirement already satisfied: pandas<3.0,>=1.0 in /usr/local/lib/python3.8/dist-packages (from gradio->-r requirements_windows.txt (line 13)) (2.0.3)\n",
            "Requirement already satisfied: pydantic>=2.0 in /usr/local/lib/python3.8/dist-packages (from gradio->-r requirements_windows.txt (line 13)) (2.9.2)\n",
            "Requirement already satisfied: pydub in /usr/local/lib/python3.8/dist-packages (from gradio->-r requirements_windows.txt (line 13)) (0.25.1)\n",
            "Requirement already satisfied: python-multipart>=0.0.9 in /usr/local/lib/python3.8/dist-packages (from gradio->-r requirements_windows.txt (line 13)) (0.0.9)\n",
            "Requirement already satisfied: pyyaml<7.0,>=5.0 in /usr/local/lib/python3.8/dist-packages (from gradio->-r requirements_windows.txt (line 13)) (6.0.2)\n",
            "Requirement already satisfied: ruff>=0.2.2 in /usr/local/lib/python3.8/dist-packages (from gradio->-r requirements_windows.txt (line 13)) (0.6.5)\n",
            "Requirement already satisfied: semantic-version~=2.0 in /usr/local/lib/python3.8/dist-packages (from gradio->-r requirements_windows.txt (line 13)) (2.10.0)\n",
            "Requirement already satisfied: tomlkit==0.12.0 in /usr/local/lib/python3.8/dist-packages (from gradio->-r requirements_windows.txt (line 13)) (0.12.0)\n",
            "Requirement already satisfied: typer<1.0,>=0.12 in /usr/local/lib/python3.8/dist-packages (from gradio->-r requirements_windows.txt (line 13)) (0.12.5)\n",
            "Requirement already satisfied: urllib3~=2.0 in /usr/local/lib/python3.8/dist-packages (from gradio->-r requirements_windows.txt (line 13)) (2.2.3)\n",
            "Requirement already satisfied: uvicorn>=0.14.0 in /usr/local/lib/python3.8/dist-packages (from gradio->-r requirements_windows.txt (line 13)) (0.30.6)\n",
            "Requirement already satisfied: fsspec in /usr/local/lib/python3.8/dist-packages (from gradio-client==1.3.0->gradio->-r requirements_windows.txt (line 13)) (2024.9.0)\n",
            "Requirement already satisfied: websockets<13.0,>=10.0 in /usr/local/lib/python3.8/dist-packages (from gradio-client==1.3.0->gradio->-r requirements_windows.txt (line 13)) (12.0)\n",
            "Requirement already satisfied: idna>=2.8 in /usr/local/lib/python3.8/dist-packages (from anyio<5.0,>=3.0->gradio->-r requirements_windows.txt (line 13)) (3.10)\n",
            "Requirement already satisfied: sniffio>=1.1 in /usr/local/lib/python3.8/dist-packages (from anyio<5.0,>=3.0->gradio->-r requirements_windows.txt (line 13)) (1.3.1)\n",
            "Requirement already satisfied: exceptiongroup>=1.0.2 in /usr/local/lib/python3.8/dist-packages (from anyio<5.0,>=3.0->gradio->-r requirements_windows.txt (line 13)) (1.2.2)\n",
            "Requirement already satisfied: starlette<0.39.0,>=0.37.2 in /usr/local/lib/python3.8/dist-packages (from fastapi<1.0->gradio->-r requirements_windows.txt (line 13)) (0.38.5)\n",
            "Requirement already satisfied: cachetools<6.0,>=2.0.0 in /usr/local/lib/python3.8/dist-packages (from google-auth<3,>=1.6.3->tensorboard==2.11.2->-r requirements_windows.txt (line 5)) (5.5.0)\n",
            "Requirement already satisfied: pyasn1-modules>=0.2.1 in /usr/local/lib/python3.8/dist-packages (from google-auth<3,>=1.6.3->tensorboard==2.11.2->-r requirements_windows.txt (line 5)) (0.4.1)\n",
            "Requirement already satisfied: rsa<5,>=3.1.4 in /usr/local/lib/python3.8/dist-packages (from google-auth<3,>=1.6.3->tensorboard==2.11.2->-r requirements_windows.txt (line 5)) (4.9)\n",
            "Requirement already satisfied: requests-oauthlib>=0.7.0 in /usr/local/lib/python3.8/dist-packages (from google-auth-oauthlib<0.5,>=0.4.1->tensorboard==2.11.2->-r requirements_windows.txt (line 5)) (2.0.0)\n",
            "Requirement already satisfied: certifi in /usr/local/lib/python3.8/dist-packages (from httpx>=0.24.1->gradio->-r requirements_windows.txt (line 13)) (2024.8.30)\n",
            "Requirement already satisfied: httpcore==1.* in /usr/local/lib/python3.8/dist-packages (from httpx>=0.24.1->gradio->-r requirements_windows.txt (line 13)) (1.0.5)\n",
            "Requirement already satisfied: h11<0.15,>=0.13 in /usr/local/lib/python3.8/dist-packages (from httpcore==1.*->httpx>=0.24.1->gradio->-r requirements_windows.txt (line 13)) (0.14.0)\n",
            "Requirement already satisfied: filelock in /usr/local/lib/python3.8/dist-packages (from huggingface-hub>=0.19.3->gradio->-r requirements_windows.txt (line 13)) (3.16.1)\n",
            "Requirement already satisfied: zipp>=3.1.0 in /usr/local/lib/python3.8/dist-packages (from importlib-resources<7.0,>=1.3->gradio->-r requirements_windows.txt (line 13)) (3.20.2)\n",
            "Requirement already satisfied: importlib-metadata>=4.4 in /usr/local/lib/python3.8/dist-packages (from markdown>=2.6.8->tensorboard==2.11.2->-r requirements_windows.txt (line 5)) (8.5.0)\n",
            "Requirement already satisfied: contourpy>=1.0.1 in /usr/local/lib/python3.8/dist-packages (from matplotlib~=3.0->gradio->-r requirements_windows.txt (line 13)) (1.1.1)\n",
            "Requirement already satisfied: cycler>=0.10 in /usr/local/lib/python3.8/dist-packages (from matplotlib~=3.0->gradio->-r requirements_windows.txt (line 13)) (0.12.1)\n",
            "Requirement already satisfied: fonttools>=4.22.0 in /usr/local/lib/python3.8/dist-packages (from matplotlib~=3.0->gradio->-r requirements_windows.txt (line 13)) (4.53.1)\n",
            "Requirement already satisfied: kiwisolver>=1.0.1 in /usr/local/lib/python3.8/dist-packages (from matplotlib~=3.0->gradio->-r requirements_windows.txt (line 13)) (1.4.7)\n",
            "Requirement already satisfied: pyparsing>=2.3.1 in /usr/local/lib/python3.8/dist-packages (from matplotlib~=3.0->gradio->-r requirements_windows.txt (line 13)) (3.1.4)\n",
            "Requirement already satisfied: python-dateutil>=2.7 in /usr/local/lib/python3.8/dist-packages (from matplotlib~=3.0->gradio->-r requirements_windows.txt (line 13)) (2.9.0.post0)\n",
            "Requirement already satisfied: pytz>=2020.1 in /usr/local/lib/python3.8/dist-packages (from pandas<3.0,>=1.0->gradio->-r requirements_windows.txt (line 13)) (2024.2)\n",
            "Requirement already satisfied: tzdata>=2022.1 in /usr/local/lib/python3.8/dist-packages (from pandas<3.0,>=1.0->gradio->-r requirements_windows.txt (line 13)) (2024.1)\n",
            "Requirement already satisfied: platformdirs>=2.5.0 in /usr/local/lib/python3.8/dist-packages (from pooch>=1.0->librosa==0.8.1->-r requirements_windows.txt (line 10)) (4.3.6)\n",
            "Requirement already satisfied: annotated-types>=0.6.0 in /usr/local/lib/python3.8/dist-packages (from pydantic>=2.0->gradio->-r requirements_windows.txt (line 13)) (0.7.0)\n",
            "Requirement already satisfied: pydantic-core==2.23.4 in /usr/local/lib/python3.8/dist-packages (from pydantic>=2.0->gradio->-r requirements_windows.txt (line 13)) (2.23.4)\n",
            "Requirement already satisfied: charset-normalizer<4,>=2 in /usr/local/lib/python3.8/dist-packages (from requests<3,>=2.21.0->tensorboard==2.11.2->-r requirements_windows.txt (line 5)) (3.3.2)\n",
            "Requirement already satisfied: threadpoolctl>=2.0.0 in /usr/local/lib/python3.8/dist-packages (from scikit-learn!=0.19.0,>=0.14.0->librosa==0.8.1->-r requirements_windows.txt (line 10)) (3.5.0)\n",
            "Requirement already satisfied: cffi>=1.0 in /usr/local/lib/python3.8/dist-packages (from soundfile>=0.10.2->librosa==0.8.1->-r requirements_windows.txt (line 10)) (1.17.1)\n",
            "Requirement already satisfied: click>=8.0.0 in /usr/local/lib/python3.8/dist-packages (from typer<1.0,>=0.12->gradio->-r requirements_windows.txt (line 13)) (8.1.7)\n",
            "Requirement already satisfied: shellingham>=1.3.0 in /usr/local/lib/python3.8/dist-packages (from typer<1.0,>=0.12->gradio->-r requirements_windows.txt (line 13)) (1.5.4)\n",
            "Requirement already satisfied: rich>=10.11.0 in /usr/local/lib/python3.8/dist-packages (from typer<1.0,>=0.12->gradio->-r requirements_windows.txt (line 13)) (13.8.1)\n",
            "Requirement already satisfied: pycparser in /usr/local/lib/python3.8/dist-packages (from cffi>=1.0->soundfile>=0.10.2->librosa==0.8.1->-r requirements_windows.txt (line 10)) (2.22)\n",
            "Requirement already satisfied: pyasn1<0.7.0,>=0.4.6 in /usr/local/lib/python3.8/dist-packages (from pyasn1-modules>=0.2.1->google-auth<3,>=1.6.3->tensorboard==2.11.2->-r requirements_windows.txt (line 5)) (0.6.1)\n",
            "Requirement already satisfied: six>=1.5 in /usr/lib/python3/dist-packages (from python-dateutil>=2.7->matplotlib~=3.0->gradio->-r requirements_windows.txt (line 13)) (1.16.0)\n",
            "Requirement already satisfied: oauthlib>=3.0.0 in /usr/local/lib/python3.8/dist-packages (from requests-oauthlib>=0.7.0->google-auth-oauthlib<0.5,>=0.4.1->tensorboard==2.11.2->-r requirements_windows.txt (line 5)) (3.2.2)\n",
            "Requirement already satisfied: markdown-it-py>=2.2.0 in /usr/local/lib/python3.8/dist-packages (from rich>=10.11.0->typer<1.0,>=0.12->gradio->-r requirements_windows.txt (line 13)) (3.0.0)\n",
            "Requirement already satisfied: pygments<3.0.0,>=2.13.0 in /usr/local/lib/python3.8/dist-packages (from rich>=10.11.0->typer<1.0,>=0.12->gradio->-r requirements_windows.txt (line 13)) (2.18.0)\n",
            "Requirement already satisfied: mdurl~=0.1 in /usr/local/lib/python3.8/dist-packages (from markdown-it-py>=2.2.0->rich>=10.11.0->typer<1.0,>=0.12->gradio->-r requirements_windows.txt (line 13)) (0.1.2)\n"
          ]
        }
      ],
      "source": [
        "!pip install -r requirements_windows.txt"
      ]
    },
    {
      "cell_type": "code",
      "execution_count": 21,
      "metadata": {
        "colab": {
          "base_uri": "https://localhost:8080/"
        },
        "id": "j_l5nIS-6CAS",
        "outputId": "c02b7964-3a42-4a82-c4b4-1b6232fdb255"
      },
      "outputs": [
        {
          "output_type": "stream",
          "name": "stdout",
          "text": [
            "Requirement already satisfied: facexlib==0.3.0 in /usr/local/lib/python3.8/dist-packages (0.3.0)\n",
            "Requirement already satisfied: filterpy in /usr/local/lib/python3.8/dist-packages (from facexlib==0.3.0) (1.4.5)\n",
            "Requirement already satisfied: numba in /usr/local/lib/python3.8/dist-packages (from facexlib==0.3.0) (0.48.0)\n",
            "Requirement already satisfied: numpy in /usr/local/lib/python3.8/dist-packages (from facexlib==0.3.0) (1.23.0)\n",
            "Requirement already satisfied: opencv-python in /usr/local/lib/python3.8/dist-packages (from facexlib==0.3.0) (4.10.0.84)\n",
            "Requirement already satisfied: Pillow in /usr/local/lib/python3.8/dist-packages (from facexlib==0.3.0) (10.4.0)\n",
            "Requirement already satisfied: scipy in /usr/local/lib/python3.8/dist-packages (from facexlib==0.3.0) (1.10.1)\n",
            "Requirement already satisfied: torch in /usr/local/lib/python3.8/dist-packages (from facexlib==0.3.0) (1.10.0+cu113)\n",
            "Requirement already satisfied: torchvision in /usr/local/lib/python3.8/dist-packages (from facexlib==0.3.0) (0.11.0+cu113)\n",
            "Requirement already satisfied: tqdm in /usr/local/lib/python3.8/dist-packages (from facexlib==0.3.0) (4.66.4)\n",
            "Requirement already satisfied: matplotlib in /usr/local/lib/python3.8/dist-packages (from filterpy->facexlib==0.3.0) (3.7.5)\n",
            "Requirement already satisfied: llvmlite<0.32.0,>=0.31.0dev0 in /usr/local/lib/python3.8/dist-packages (from numba->facexlib==0.3.0) (0.31.0)\n",
            "Requirement already satisfied: setuptools in /usr/local/lib/python3.8/dist-packages (from numba->facexlib==0.3.0) (75.1.0)\n",
            "Requirement already satisfied: typing-extensions in /usr/local/lib/python3.8/dist-packages (from torch->facexlib==0.3.0) (4.12.2)\n",
            "Requirement already satisfied: contourpy>=1.0.1 in /usr/local/lib/python3.8/dist-packages (from matplotlib->filterpy->facexlib==0.3.0) (1.1.1)\n",
            "Requirement already satisfied: cycler>=0.10 in /usr/local/lib/python3.8/dist-packages (from matplotlib->filterpy->facexlib==0.3.0) (0.12.1)\n",
            "Requirement already satisfied: fonttools>=4.22.0 in /usr/local/lib/python3.8/dist-packages (from matplotlib->filterpy->facexlib==0.3.0) (4.53.1)\n",
            "Requirement already satisfied: kiwisolver>=1.0.1 in /usr/local/lib/python3.8/dist-packages (from matplotlib->filterpy->facexlib==0.3.0) (1.4.7)\n",
            "Requirement already satisfied: packaging>=20.0 in /usr/local/lib/python3.8/dist-packages (from matplotlib->filterpy->facexlib==0.3.0) (24.1)\n",
            "Requirement already satisfied: pyparsing>=2.3.1 in /usr/local/lib/python3.8/dist-packages (from matplotlib->filterpy->facexlib==0.3.0) (3.1.4)\n",
            "Requirement already satisfied: python-dateutil>=2.7 in /usr/local/lib/python3.8/dist-packages (from matplotlib->filterpy->facexlib==0.3.0) (2.9.0.post0)\n",
            "Requirement already satisfied: importlib-resources>=3.2.0 in /usr/local/lib/python3.8/dist-packages (from matplotlib->filterpy->facexlib==0.3.0) (6.4.5)\n",
            "Requirement already satisfied: zipp>=3.1.0 in /usr/local/lib/python3.8/dist-packages (from importlib-resources>=3.2.0->matplotlib->filterpy->facexlib==0.3.0) (3.20.2)\n",
            "Requirement already satisfied: six>=1.5 in /usr/lib/python3/dist-packages (from python-dateutil>=2.7->matplotlib->filterpy->facexlib==0.3.0) (1.16.0)\n",
            "Looking in indexes: https://mirrors.aliyun.com/pypi/simple\n",
            "Requirement already satisfied: tb-nightly==2.14.0a20230808 in /usr/local/lib/python3.8/dist-packages (2.14.0a20230808)\n",
            "Requirement already satisfied: absl-py>=0.4 in /usr/local/lib/python3.8/dist-packages (from tb-nightly==2.14.0a20230808) (2.1.0)\n",
            "Requirement already satisfied: grpcio>=1.48.2 in /usr/local/lib/python3.8/dist-packages (from tb-nightly==2.14.0a20230808) (1.66.1)\n",
            "Requirement already satisfied: google-auth<3,>=1.6.3 in /usr/local/lib/python3.8/dist-packages (from tb-nightly==2.14.0a20230808) (2.34.0)\n",
            "Collecting google-auth-oauthlib<1.1,>=0.5 (from tb-nightly==2.14.0a20230808)\n",
            "  Using cached https://mirrors.aliyun.com/pypi/packages/4a/07/8d9a8186e6768b55dfffeb57c719bc03770cf8a970a074616ae6f9e26a57/google_auth_oauthlib-1.0.0-py2.py3-none-any.whl (18 kB)\n",
            "Requirement already satisfied: markdown>=2.6.8 in /usr/local/lib/python3.8/dist-packages (from tb-nightly==2.14.0a20230808) (3.7)\n",
            "Requirement already satisfied: numpy>=1.12.0 in /usr/local/lib/python3.8/dist-packages (from tb-nightly==2.14.0a20230808) (1.23.0)\n",
            "Requirement already satisfied: protobuf>=3.19.6 in /usr/local/lib/python3.8/dist-packages (from tb-nightly==2.14.0a20230808) (3.20.3)\n",
            "Requirement already satisfied: requests<3,>=2.21.0 in /usr/local/lib/python3.8/dist-packages (from tb-nightly==2.14.0a20230808) (2.32.3)\n",
            "Requirement already satisfied: setuptools>=41.0.0 in /usr/local/lib/python3.8/dist-packages (from tb-nightly==2.14.0a20230808) (75.1.0)\n",
            "Collecting tensorboard-data-server<0.8.0,>=0.7.0 (from tb-nightly==2.14.0a20230808)\n",
            "  Using cached https://mirrors.aliyun.com/pypi/packages/73/c6/825dab04195756cf8ff2e12698f22513b3db2f64925bdd41671bfb33aaa5/tensorboard_data_server-0.7.2-py3-none-manylinux_2_31_x86_64.whl (6.6 MB)\n",
            "Requirement already satisfied: werkzeug>=1.0.1 in /usr/local/lib/python3.8/dist-packages (from tb-nightly==2.14.0a20230808) (3.0.4)\n",
            "Requirement already satisfied: wheel>=0.26 in /usr/local/lib/python3.8/dist-packages (from tb-nightly==2.14.0a20230808) (0.44.0)\n",
            "Requirement already satisfied: cachetools<6.0,>=2.0.0 in /usr/local/lib/python3.8/dist-packages (from google-auth<3,>=1.6.3->tb-nightly==2.14.0a20230808) (5.5.0)\n",
            "Requirement already satisfied: pyasn1-modules>=0.2.1 in /usr/local/lib/python3.8/dist-packages (from google-auth<3,>=1.6.3->tb-nightly==2.14.0a20230808) (0.4.1)\n",
            "Requirement already satisfied: rsa<5,>=3.1.4 in /usr/local/lib/python3.8/dist-packages (from google-auth<3,>=1.6.3->tb-nightly==2.14.0a20230808) (4.9)\n",
            "Requirement already satisfied: requests-oauthlib>=0.7.0 in /usr/local/lib/python3.8/dist-packages (from google-auth-oauthlib<1.1,>=0.5->tb-nightly==2.14.0a20230808) (2.0.0)\n",
            "Requirement already satisfied: importlib-metadata>=4.4 in /usr/local/lib/python3.8/dist-packages (from markdown>=2.6.8->tb-nightly==2.14.0a20230808) (8.5.0)\n",
            "Requirement already satisfied: charset-normalizer<4,>=2 in /usr/local/lib/python3.8/dist-packages (from requests<3,>=2.21.0->tb-nightly==2.14.0a20230808) (3.3.2)\n",
            "Requirement already satisfied: idna<4,>=2.5 in /usr/local/lib/python3.8/dist-packages (from requests<3,>=2.21.0->tb-nightly==2.14.0a20230808) (3.10)\n",
            "Requirement already satisfied: urllib3<3,>=1.21.1 in /usr/local/lib/python3.8/dist-packages (from requests<3,>=2.21.0->tb-nightly==2.14.0a20230808) (2.2.3)\n",
            "Requirement already satisfied: certifi>=2017.4.17 in /usr/local/lib/python3.8/dist-packages (from requests<3,>=2.21.0->tb-nightly==2.14.0a20230808) (2024.8.30)\n",
            "Requirement already satisfied: MarkupSafe>=2.1.1 in /usr/local/lib/python3.8/dist-packages (from werkzeug>=1.0.1->tb-nightly==2.14.0a20230808) (2.1.5)\n",
            "Requirement already satisfied: zipp>=3.20 in /usr/local/lib/python3.8/dist-packages (from importlib-metadata>=4.4->markdown>=2.6.8->tb-nightly==2.14.0a20230808) (3.20.2)\n",
            "Requirement already satisfied: pyasn1<0.7.0,>=0.4.6 in /usr/local/lib/python3.8/dist-packages (from pyasn1-modules>=0.2.1->google-auth<3,>=1.6.3->tb-nightly==2.14.0a20230808) (0.6.1)\n",
            "Requirement already satisfied: oauthlib>=3.0.0 in /usr/local/lib/python3.8/dist-packages (from requests-oauthlib>=0.7.0->google-auth-oauthlib<1.1,>=0.5->tb-nightly==2.14.0a20230808) (3.2.2)\n",
            "Installing collected packages: tensorboard-data-server, google-auth-oauthlib\n",
            "  Attempting uninstall: tensorboard-data-server\n",
            "    Found existing installation: tensorboard-data-server 0.6.1\n",
            "    Uninstalling tensorboard-data-server-0.6.1:\n",
            "      Successfully uninstalled tensorboard-data-server-0.6.1\n",
            "  Attempting uninstall: google-auth-oauthlib\n",
            "    Found existing installation: google-auth-oauthlib 0.4.6\n",
            "    Uninstalling google-auth-oauthlib-0.4.6:\n",
            "      Successfully uninstalled google-auth-oauthlib-0.4.6\n",
            "\u001b[31mERROR: pip's dependency resolver does not currently take into account all the packages that are installed. This behaviour is the source of the following dependency conflicts.\n",
            "tensorboard 2.11.2 requires google-auth-oauthlib<0.5,>=0.4.1, but you have google-auth-oauthlib 1.0.0 which is incompatible.\n",
            "tensorboard 2.11.2 requires tensorboard-data-server<0.7.0,>=0.6.0, but you have tensorboard-data-server 0.7.2 which is incompatible.\u001b[0m\u001b[31m\n",
            "\u001b[0mSuccessfully installed google-auth-oauthlib-1.0.0 tensorboard-data-server-0.7.2\n",
            "Requirement already satisfied: gfpgan==1.3.8 in /usr/local/lib/python3.8/dist-packages (1.3.8)\n",
            "Requirement already satisfied: basicsr>=1.4.2 in /usr/local/lib/python3.8/dist-packages (from gfpgan==1.3.8) (1.4.2)\n",
            "Requirement already satisfied: facexlib>=0.2.5 in /usr/local/lib/python3.8/dist-packages (from gfpgan==1.3.8) (0.3.0)\n",
            "Requirement already satisfied: lmdb in /usr/local/lib/python3.8/dist-packages (from gfpgan==1.3.8) (1.5.1)\n",
            "Requirement already satisfied: numpy in /usr/local/lib/python3.8/dist-packages (from gfpgan==1.3.8) (1.23.0)\n",
            "Requirement already satisfied: opencv-python in /usr/local/lib/python3.8/dist-packages (from gfpgan==1.3.8) (4.10.0.84)\n",
            "Requirement already satisfied: pyyaml in /usr/local/lib/python3.8/dist-packages (from gfpgan==1.3.8) (6.0.2)\n",
            "Requirement already satisfied: scipy in /usr/local/lib/python3.8/dist-packages (from gfpgan==1.3.8) (1.10.1)\n",
            "Requirement already satisfied: tb-nightly in /usr/local/lib/python3.8/dist-packages (from gfpgan==1.3.8) (2.14.0a20230808)\n",
            "Requirement already satisfied: torch>=1.7 in /usr/local/lib/python3.8/dist-packages (from gfpgan==1.3.8) (1.10.0+cu113)\n",
            "Requirement already satisfied: torchvision in /usr/local/lib/python3.8/dist-packages (from gfpgan==1.3.8) (0.11.0+cu113)\n",
            "Requirement already satisfied: tqdm in /usr/local/lib/python3.8/dist-packages (from gfpgan==1.3.8) (4.66.4)\n",
            "Requirement already satisfied: yapf in /usr/local/lib/python3.8/dist-packages (from gfpgan==1.3.8) (0.40.2)\n",
            "Requirement already satisfied: addict in /usr/local/lib/python3.8/dist-packages (from basicsr>=1.4.2->gfpgan==1.3.8) (2.4.0)\n",
            "Requirement already satisfied: future in /usr/local/lib/python3.8/dist-packages (from basicsr>=1.4.2->gfpgan==1.3.8) (1.0.0)\n",
            "Requirement already satisfied: Pillow in /usr/local/lib/python3.8/dist-packages (from basicsr>=1.4.2->gfpgan==1.3.8) (10.4.0)\n",
            "Requirement already satisfied: requests in /usr/local/lib/python3.8/dist-packages (from basicsr>=1.4.2->gfpgan==1.3.8) (2.32.3)\n",
            "Requirement already satisfied: scikit-image in /usr/local/lib/python3.8/dist-packages (from basicsr>=1.4.2->gfpgan==1.3.8) (0.21.0)\n",
            "Requirement already satisfied: filterpy in /usr/local/lib/python3.8/dist-packages (from facexlib>=0.2.5->gfpgan==1.3.8) (1.4.5)\n",
            "Requirement already satisfied: numba in /usr/local/lib/python3.8/dist-packages (from facexlib>=0.2.5->gfpgan==1.3.8) (0.48.0)\n",
            "Requirement already satisfied: typing-extensions in /usr/local/lib/python3.8/dist-packages (from torch>=1.7->gfpgan==1.3.8) (4.12.2)\n",
            "Requirement already satisfied: absl-py>=0.4 in /usr/local/lib/python3.8/dist-packages (from tb-nightly->gfpgan==1.3.8) (2.1.0)\n",
            "Requirement already satisfied: grpcio>=1.48.2 in /usr/local/lib/python3.8/dist-packages (from tb-nightly->gfpgan==1.3.8) (1.66.1)\n",
            "Requirement already satisfied: google-auth<3,>=1.6.3 in /usr/local/lib/python3.8/dist-packages (from tb-nightly->gfpgan==1.3.8) (2.34.0)\n",
            "Requirement already satisfied: google-auth-oauthlib<1.1,>=0.5 in /usr/local/lib/python3.8/dist-packages (from tb-nightly->gfpgan==1.3.8) (1.0.0)\n",
            "Requirement already satisfied: markdown>=2.6.8 in /usr/local/lib/python3.8/dist-packages (from tb-nightly->gfpgan==1.3.8) (3.7)\n",
            "Requirement already satisfied: protobuf>=3.19.6 in /usr/local/lib/python3.8/dist-packages (from tb-nightly->gfpgan==1.3.8) (3.20.3)\n",
            "Requirement already satisfied: setuptools>=41.0.0 in /usr/local/lib/python3.8/dist-packages (from tb-nightly->gfpgan==1.3.8) (75.1.0)\n",
            "Requirement already satisfied: tensorboard-data-server<0.8.0,>=0.7.0 in /usr/local/lib/python3.8/dist-packages (from tb-nightly->gfpgan==1.3.8) (0.7.2)\n",
            "Requirement already satisfied: werkzeug>=1.0.1 in /usr/local/lib/python3.8/dist-packages (from tb-nightly->gfpgan==1.3.8) (3.0.4)\n",
            "Requirement already satisfied: wheel>=0.26 in /usr/local/lib/python3.8/dist-packages (from tb-nightly->gfpgan==1.3.8) (0.44.0)\n",
            "Requirement already satisfied: importlib-metadata>=6.6.0 in /usr/local/lib/python3.8/dist-packages (from yapf->gfpgan==1.3.8) (8.5.0)\n",
            "Requirement already satisfied: platformdirs>=3.5.1 in /usr/local/lib/python3.8/dist-packages (from yapf->gfpgan==1.3.8) (4.3.6)\n",
            "Requirement already satisfied: tomli>=2.0.1 in /usr/local/lib/python3.8/dist-packages (from yapf->gfpgan==1.3.8) (2.0.1)\n",
            "Requirement already satisfied: cachetools<6.0,>=2.0.0 in /usr/local/lib/python3.8/dist-packages (from google-auth<3,>=1.6.3->tb-nightly->gfpgan==1.3.8) (5.5.0)\n",
            "Requirement already satisfied: pyasn1-modules>=0.2.1 in /usr/local/lib/python3.8/dist-packages (from google-auth<3,>=1.6.3->tb-nightly->gfpgan==1.3.8) (0.4.1)\n",
            "Requirement already satisfied: rsa<5,>=3.1.4 in /usr/local/lib/python3.8/dist-packages (from google-auth<3,>=1.6.3->tb-nightly->gfpgan==1.3.8) (4.9)\n",
            "Requirement already satisfied: requests-oauthlib>=0.7.0 in /usr/local/lib/python3.8/dist-packages (from google-auth-oauthlib<1.1,>=0.5->tb-nightly->gfpgan==1.3.8) (2.0.0)\n",
            "Requirement already satisfied: zipp>=3.20 in /usr/local/lib/python3.8/dist-packages (from importlib-metadata>=6.6.0->yapf->gfpgan==1.3.8) (3.20.2)\n",
            "Requirement already satisfied: charset-normalizer<4,>=2 in /usr/local/lib/python3.8/dist-packages (from requests->basicsr>=1.4.2->gfpgan==1.3.8) (3.3.2)\n",
            "Requirement already satisfied: idna<4,>=2.5 in /usr/local/lib/python3.8/dist-packages (from requests->basicsr>=1.4.2->gfpgan==1.3.8) (3.10)\n",
            "Requirement already satisfied: urllib3<3,>=1.21.1 in /usr/local/lib/python3.8/dist-packages (from requests->basicsr>=1.4.2->gfpgan==1.3.8) (2.2.3)\n",
            "Requirement already satisfied: certifi>=2017.4.17 in /usr/local/lib/python3.8/dist-packages (from requests->basicsr>=1.4.2->gfpgan==1.3.8) (2024.8.30)\n",
            "Requirement already satisfied: MarkupSafe>=2.1.1 in /usr/local/lib/python3.8/dist-packages (from werkzeug>=1.0.1->tb-nightly->gfpgan==1.3.8) (2.1.5)\n",
            "Requirement already satisfied: matplotlib in /usr/local/lib/python3.8/dist-packages (from filterpy->facexlib>=0.2.5->gfpgan==1.3.8) (3.7.5)\n",
            "Requirement already satisfied: llvmlite<0.32.0,>=0.31.0dev0 in /usr/local/lib/python3.8/dist-packages (from numba->facexlib>=0.2.5->gfpgan==1.3.8) (0.31.0)\n",
            "Requirement already satisfied: networkx>=2.8 in /usr/local/lib/python3.8/dist-packages (from scikit-image->basicsr>=1.4.2->gfpgan==1.3.8) (3.1)\n",
            "Requirement already satisfied: imageio>=2.27 in /usr/local/lib/python3.8/dist-packages (from scikit-image->basicsr>=1.4.2->gfpgan==1.3.8) (2.35.1)\n",
            "Requirement already satisfied: tifffile>=2022.8.12 in /usr/local/lib/python3.8/dist-packages (from scikit-image->basicsr>=1.4.2->gfpgan==1.3.8) (2023.7.10)\n",
            "Requirement already satisfied: PyWavelets>=1.1.1 in /usr/local/lib/python3.8/dist-packages (from scikit-image->basicsr>=1.4.2->gfpgan==1.3.8) (1.4.1)\n",
            "Requirement already satisfied: packaging>=21 in /usr/local/lib/python3.8/dist-packages (from scikit-image->basicsr>=1.4.2->gfpgan==1.3.8) (24.1)\n",
            "Requirement already satisfied: lazy_loader>=0.2 in /usr/local/lib/python3.8/dist-packages (from scikit-image->basicsr>=1.4.2->gfpgan==1.3.8) (0.4)\n",
            "Requirement already satisfied: pyasn1<0.7.0,>=0.4.6 in /usr/local/lib/python3.8/dist-packages (from pyasn1-modules>=0.2.1->google-auth<3,>=1.6.3->tb-nightly->gfpgan==1.3.8) (0.6.1)\n",
            "Requirement already satisfied: oauthlib>=3.0.0 in /usr/local/lib/python3.8/dist-packages (from requests-oauthlib>=0.7.0->google-auth-oauthlib<1.1,>=0.5->tb-nightly->gfpgan==1.3.8) (3.2.2)\n",
            "Requirement already satisfied: contourpy>=1.0.1 in /usr/local/lib/python3.8/dist-packages (from matplotlib->filterpy->facexlib>=0.2.5->gfpgan==1.3.8) (1.1.1)\n",
            "Requirement already satisfied: cycler>=0.10 in /usr/local/lib/python3.8/dist-packages (from matplotlib->filterpy->facexlib>=0.2.5->gfpgan==1.3.8) (0.12.1)\n",
            "Requirement already satisfied: fonttools>=4.22.0 in /usr/local/lib/python3.8/dist-packages (from matplotlib->filterpy->facexlib>=0.2.5->gfpgan==1.3.8) (4.53.1)\n",
            "Requirement already satisfied: kiwisolver>=1.0.1 in /usr/local/lib/python3.8/dist-packages (from matplotlib->filterpy->facexlib>=0.2.5->gfpgan==1.3.8) (1.4.7)\n",
            "Requirement already satisfied: pyparsing>=2.3.1 in /usr/local/lib/python3.8/dist-packages (from matplotlib->filterpy->facexlib>=0.2.5->gfpgan==1.3.8) (3.1.4)\n",
            "Requirement already satisfied: python-dateutil>=2.7 in /usr/local/lib/python3.8/dist-packages (from matplotlib->filterpy->facexlib>=0.2.5->gfpgan==1.3.8) (2.9.0.post0)\n",
            "Requirement already satisfied: importlib-resources>=3.2.0 in /usr/local/lib/python3.8/dist-packages (from matplotlib->filterpy->facexlib>=0.2.5->gfpgan==1.3.8) (6.4.5)\n",
            "Requirement already satisfied: six>=1.5 in /usr/lib/python3/dist-packages (from python-dateutil>=2.7->matplotlib->filterpy->facexlib>=0.2.5->gfpgan==1.3.8) (1.16.0)\n",
            "Collecting google-auth-oauthlib==0.4.6\n",
            "  Using cached google_auth_oauthlib-0.4.6-py2.py3-none-any.whl.metadata (2.7 kB)\n",
            "Collecting tensorboard-data-server==0.6.1\n",
            "  Using cached tensorboard_data_server-0.6.1-py3-none-manylinux2010_x86_64.whl.metadata (1.1 kB)\n",
            "Requirement already satisfied: google-auth>=1.0.0 in /usr/local/lib/python3.8/dist-packages (from google-auth-oauthlib==0.4.6) (2.34.0)\n",
            "Requirement already satisfied: requests-oauthlib>=0.7.0 in /usr/local/lib/python3.8/dist-packages (from google-auth-oauthlib==0.4.6) (2.0.0)\n",
            "Requirement already satisfied: cachetools<6.0,>=2.0.0 in /usr/local/lib/python3.8/dist-packages (from google-auth>=1.0.0->google-auth-oauthlib==0.4.6) (5.5.0)\n",
            "Requirement already satisfied: pyasn1-modules>=0.2.1 in /usr/local/lib/python3.8/dist-packages (from google-auth>=1.0.0->google-auth-oauthlib==0.4.6) (0.4.1)\n",
            "Requirement already satisfied: rsa<5,>=3.1.4 in /usr/local/lib/python3.8/dist-packages (from google-auth>=1.0.0->google-auth-oauthlib==0.4.6) (4.9)\n",
            "Requirement already satisfied: oauthlib>=3.0.0 in /usr/local/lib/python3.8/dist-packages (from requests-oauthlib>=0.7.0->google-auth-oauthlib==0.4.6) (3.2.2)\n",
            "Requirement already satisfied: requests>=2.0.0 in /usr/local/lib/python3.8/dist-packages (from requests-oauthlib>=0.7.0->google-auth-oauthlib==0.4.6) (2.32.3)\n",
            "Requirement already satisfied: pyasn1<0.7.0,>=0.4.6 in /usr/local/lib/python3.8/dist-packages (from pyasn1-modules>=0.2.1->google-auth>=1.0.0->google-auth-oauthlib==0.4.6) (0.6.1)\n",
            "Requirement already satisfied: charset-normalizer<4,>=2 in /usr/local/lib/python3.8/dist-packages (from requests>=2.0.0->requests-oauthlib>=0.7.0->google-auth-oauthlib==0.4.6) (3.3.2)\n",
            "Requirement already satisfied: idna<4,>=2.5 in /usr/local/lib/python3.8/dist-packages (from requests>=2.0.0->requests-oauthlib>=0.7.0->google-auth-oauthlib==0.4.6) (3.10)\n",
            "Requirement already satisfied: urllib3<3,>=1.21.1 in /usr/local/lib/python3.8/dist-packages (from requests>=2.0.0->requests-oauthlib>=0.7.0->google-auth-oauthlib==0.4.6) (2.2.3)\n",
            "Requirement already satisfied: certifi>=2017.4.17 in /usr/local/lib/python3.8/dist-packages (from requests>=2.0.0->requests-oauthlib>=0.7.0->google-auth-oauthlib==0.4.6) (2024.8.30)\n",
            "Using cached google_auth_oauthlib-0.4.6-py2.py3-none-any.whl (18 kB)\n",
            "Using cached tensorboard_data_server-0.6.1-py3-none-manylinux2010_x86_64.whl (4.9 MB)\n",
            "Installing collected packages: tensorboard-data-server, google-auth-oauthlib\n",
            "  Attempting uninstall: tensorboard-data-server\n",
            "    Found existing installation: tensorboard-data-server 0.7.2\n",
            "    Uninstalling tensorboard-data-server-0.7.2:\n",
            "      Successfully uninstalled tensorboard-data-server-0.7.2\n",
            "  Attempting uninstall: google-auth-oauthlib\n",
            "    Found existing installation: google-auth-oauthlib 1.0.0\n",
            "    Uninstalling google-auth-oauthlib-1.0.0:\n",
            "      Successfully uninstalled google-auth-oauthlib-1.0.0\n",
            "\u001b[31mERROR: pip's dependency resolver does not currently take into account all the packages that are installed. This behaviour is the source of the following dependency conflicts.\n",
            "tb-nightly 2.14.0a20230808 requires google-auth-oauthlib<1.1,>=0.5, but you have google-auth-oauthlib 0.4.6 which is incompatible.\n",
            "tb-nightly 2.14.0a20230808 requires tensorboard-data-server<0.8.0,>=0.7.0, but you have tensorboard-data-server 0.6.1 which is incompatible.\u001b[0m\u001b[31m\n",
            "\u001b[0mSuccessfully installed google-auth-oauthlib-0.4.6 tensorboard-data-server-0.6.1\n"
          ]
        }
      ],
      "source": [
        "!pip install facexlib==0.3.0\n",
        "!pip install tb-nightly==2.14.0a20230808 -i https://mirrors.aliyun.com/pypi/simple\n",
        "!pip install gfpgan==1.3.8\n",
        "!pip install google-auth-oauthlib==0.4.6 tensorboard-data-server==0.6.1"
      ]
    },
    {
      "cell_type": "code",
      "execution_count": 22,
      "metadata": {
        "colab": {
          "base_uri": "https://localhost:8080/"
        },
        "id": "M1YD7wiOD5j0",
        "outputId": "7f6c8e49-def6-43b0-d9c9-2eb9c5297bc7"
      },
      "outputs": [
        {
          "output_type": "stream",
          "name": "stdout",
          "text": [
            "19.24.2\n"
          ]
        }
      ],
      "source": [
        "# Verify the installation\n",
        "import dlib\n",
        "print(dlib.__version__)"
      ]
    },
    {
      "cell_type": "code",
      "execution_count": 25,
      "metadata": {
        "colab": {
          "base_uri": "https://localhost:8080/"
        },
        "id": "P6FU0lFHEGZp",
        "outputId": "de043a6f-4b54-43c3-9c0a-d5632eca6616"
      },
      "outputs": [
        {
          "output_type": "stream",
          "name": "stdout",
          "text": [
            "\u001b[32mForwarding HTTP traffic from https://148d473a4f11b20c03889e63d0edd69b.serveo.net\n",
            "\u001b[0mHTTP request from 154.208.41.17 to https://148d473a4f11b20c03889e63d0edd69b.serveo.net/\n",
            "HTTP request from 154.208.41.17 to https://148d473a4f11b20c03889e63d0edd69b.serveo.net/static/media/SourceSansPro-Regular.0d69e5ff5e92ac64a0c9.woff2\n",
            "HTTP request from 154.208.41.17 to https://148d473a4f11b20c03889e63d0edd69b.serveo.net/static/media/SourceSansPro-SemiBold.abed79cd0df1827e18cf.woff2\n",
            "HTTP request from 154.208.41.17 to https://148d473a4f11b20c03889e63d0edd69b.serveo.net/static/css/main.5513bd04.css\n",
            "HTTP request from 154.208.41.17 to https://148d473a4f11b20c03889e63d0edd69b.serveo.net/static/media/SourceSansPro-Bold.118dea98980e20a81ced.woff2\n",
            "HTTP request from 154.208.41.17 to https://148d473a4f11b20c03889e63d0edd69b.serveo.net/static/js/main.33cac65c.js\n",
            "HTTP request from 154.208.41.17 to https://148d473a4f11b20c03889e63d0edd69b.serveo.net/_stcore/health\n",
            "HTTP request from 154.208.41.17 to https://148d473a4f11b20c03889e63d0edd69b.serveo.net/_stcore/host-config\n",
            "HTTP request from 154.208.41.17 to https://148d473a4f11b20c03889e63d0edd69b.serveo.net/favicon.png\n",
            "HTTP request from 154.208.41.17 to https://148d473a4f11b20c03889e63d0edd69b.serveo.net/_stcore/stream\n",
            "HTTP request from 154.208.41.17 to https://148d473a4f11b20c03889e63d0edd69b.serveo.net/static/js/8570.6de19120.chunk.js\n",
            "HTTP request from 154.208.41.17 to https://148d473a4f11b20c03889e63d0edd69b.serveo.net/static/js/7702.b905bebd.chunk.js\n",
            "HTTP request from 154.208.41.17 to https://148d473a4f11b20c03889e63d0edd69b.serveo.net/static/js/8571.cfc22b99.chunk.js\n",
            "HTTP request from 154.208.41.17 to https://148d473a4f11b20c03889e63d0edd69b.serveo.net/static/js/4319.00adb829.chunk.js\n",
            "HTTP request from 154.208.41.17 to https://148d473a4f11b20c03889e63d0edd69b.serveo.net/static/js/1792.d126bbd9.chunk.js\n",
            "HTTP request from 154.208.41.17 to https://148d473a4f11b20c03889e63d0edd69b.serveo.net/static/js/4335.b166a7b6.chunk.js\n",
            "HTTP request from 154.208.41.17 to https://148d473a4f11b20c03889e63d0edd69b.serveo.net/_stcore/upload_file/1b7495f3-c673-4663-9472-74309617d94f/8ff74d6b-e97f-4965-b98c-5f7a9ab00927\n",
            "HTTP request from 154.208.41.17 to https://148d473a4f11b20c03889e63d0edd69b.serveo.net/_stcore/upload_file/1b7495f3-c673-4663-9472-74309617d94f/8ff74d6b-e97f-4965-b98c-5f7a9ab00927\n",
            "HTTP request from 154.208.41.17 to https://148d473a4f11b20c03889e63d0edd69b.serveo.net/_stcore/upload_file/1b7495f3-c673-4663-9472-74309617d94f/d969d2c6-67eb-4533-a29f-8226085a6e2c\n",
            "HTTP request from 154.208.41.17 to https://148d473a4f11b20c03889e63d0edd69b.serveo.net/favicon.png\n",
            "HTTP request from 154.208.41.17 to https://148d473a4f11b20c03889e63d0edd69b.serveo.net/_stcore/upload_file/1b7495f3-c673-4663-9472-74309617d94f/b24f60ef-2bce-4fbf-a779-f3485059f354\n",
            "HTTP request from 154.208.41.17 to https://148d473a4f11b20c03889e63d0edd69b.serveo.net/static/js/6853.a1c4fa00.chunk.js\n",
            "HTTP request from 154.208.41.17 to https://148d473a4f11b20c03889e63d0edd69b.serveo.net/static/js/178.ddebe26b.chunk.js\n",
            "HTTP request from 154.208.41.17 to https://148d473a4f11b20c03889e63d0edd69b.serveo.net/media/3e97ea5bea8a288a85c3175d3b145f0dbd7119d32b0b41c5ba9c481b.mp4\n",
            "HTTP request from 154.208.41.17 to https://148d473a4f11b20c03889e63d0edd69b.serveo.net/media/0c85c5b13aee91c27579ba734e7bf1318f84f5ca3dcf466d29a515d4.mp4\n",
            "HTTP request from 154.208.41.17 to https://148d473a4f11b20c03889e63d0edd69b.serveo.net/media/3e97ea5bea8a288a85c3175d3b145f0dbd7119d32b0b41c5ba9c481b.mp4\n",
            "HTTP request from 154.208.41.17 to https://148d473a4f11b20c03889e63d0edd69b.serveo.net/media/0c85c5b13aee91c27579ba734e7bf1318f84f5ca3dcf466d29a515d4.mp4\n",
            "HTTP request from 154.208.41.17 to https://148d473a4f11b20c03889e63d0edd69b.serveo.net/media/3e97ea5bea8a288a85c3175d3b145f0dbd7119d32b0b41c5ba9c481b.mp4\n",
            "HTTP request from 154.208.41.17 to https://148d473a4f11b20c03889e63d0edd69b.serveo.net/media/0c85c5b13aee91c27579ba734e7bf1318f84f5ca3dcf466d29a515d4.mp4\n",
            "HTTP request from 154.208.41.17 to https://148d473a4f11b20c03889e63d0edd69b.serveo.net/media/0c85c5b13aee91c27579ba734e7bf1318f84f5ca3dcf466d29a515d4.mp4\n",
            "HTTP request from 154.208.41.17 to https://148d473a4f11b20c03889e63d0edd69b.serveo.net/media/0c85c5b13aee91c27579ba734e7bf1318f84f5ca3dcf466d29a515d4.mp4\n",
            "HTTP request from 154.208.41.17 to https://148d473a4f11b20c03889e63d0edd69b.serveo.net/media/3e97ea5bea8a288a85c3175d3b145f0dbd7119d32b0b41c5ba9c481b.mp4\n",
            "HTTP request from 154.208.41.17 to https://148d473a4f11b20c03889e63d0edd69b.serveo.net/media/3e97ea5bea8a288a85c3175d3b145f0dbd7119d32b0b41c5ba9c481b.mp4\n",
            "HTTP request from 154.208.41.17 to https://148d473a4f11b20c03889e63d0edd69b.serveo.net/media/3e97ea5bea8a288a85c3175d3b145f0dbd7119d32b0b41c5ba9c481b.mp4\n",
            "HTTP request from 154.208.41.17 to https://148d473a4f11b20c03889e63d0edd69b.serveo.net/media/0c85c5b13aee91c27579ba734e7bf1318f84f5ca3dcf466d29a515d4.mp4\n",
            "HTTP request from 154.208.41.17 to https://148d473a4f11b20c03889e63d0edd69b.serveo.net/media/0c85c5b13aee91c27579ba734e7bf1318f84f5ca3dcf466d29a515d4.mp4\n",
            "HTTP request from 154.208.41.17 to https://148d473a4f11b20c03889e63d0edd69b.serveo.net/media/0c85c5b13aee91c27579ba734e7bf1318f84f5ca3dcf466d29a515d4.mp4\n",
            "HTTP request from 154.208.41.17 to https://148d473a4f11b20c03889e63d0edd69b.serveo.net/_stcore/upload_file/1b7495f3-c673-4663-9472-74309617d94f/b24f60ef-2bce-4fbf-a779-f3485059f354\n",
            "HTTP request from 154.208.41.17 to https://148d473a4f11b20c03889e63d0edd69b.serveo.net/_stcore/upload_file/1b7495f3-c673-4663-9472-74309617d94f/2631ae35-bf2d-43ae-8833-f30a753e1c5b\n",
            "HTTP request from 154.208.41.17 to https://148d473a4f11b20c03889e63d0edd69b.serveo.net/favicon.png\n",
            "HTTP request from 154.208.41.17 to https://148d473a4f11b20c03889e63d0edd69b.serveo.net/media/56c8825c1af0bec20515c2bf52870401ce3413f773edc1e046c60859.mp4\n",
            "HTTP request from 154.208.41.17 to https://148d473a4f11b20c03889e63d0edd69b.serveo.net/media/93f9fe93edd497f85ed907a807d51b2a098f95ffa89f471e389f7165.mp4\n",
            "HTTP request from 154.208.41.17 to https://148d473a4f11b20c03889e63d0edd69b.serveo.net/media/56c8825c1af0bec20515c2bf52870401ce3413f773edc1e046c60859.mp4\n",
            "HTTP request from 154.208.41.17 to https://148d473a4f11b20c03889e63d0edd69b.serveo.net/media/93f9fe93edd497f85ed907a807d51b2a098f95ffa89f471e389f7165.mp4\n",
            "HTTP request from 154.208.41.17 to https://148d473a4f11b20c03889e63d0edd69b.serveo.net/media/56c8825c1af0bec20515c2bf52870401ce3413f773edc1e046c60859.mp4\n",
            "HTTP request from 154.208.41.17 to https://148d473a4f11b20c03889e63d0edd69b.serveo.net/media/93f9fe93edd497f85ed907a807d51b2a098f95ffa89f471e389f7165.mp4\n",
            "HTTP request from 154.208.41.17 to https://148d473a4f11b20c03889e63d0edd69b.serveo.net/media/56c8825c1af0bec20515c2bf52870401ce3413f773edc1e046c60859.mp4\n",
            "HTTP request from 154.208.41.17 to https://148d473a4f11b20c03889e63d0edd69b.serveo.net/media/56c8825c1af0bec20515c2bf52870401ce3413f773edc1e046c60859.mp4\n",
            "HTTP request from 154.208.41.17 to https://148d473a4f11b20c03889e63d0edd69b.serveo.net/media/56c8825c1af0bec20515c2bf52870401ce3413f773edc1e046c60859.mp4\n",
            "HTTP request from 154.208.41.17 to https://148d473a4f11b20c03889e63d0edd69b.serveo.net/media/56c8825c1af0bec20515c2bf52870401ce3413f773edc1e046c60859.mp4\n",
            "HTTP request from 154.208.41.17 to https://148d473a4f11b20c03889e63d0edd69b.serveo.net/media/93f9fe93edd497f85ed907a807d51b2a098f95ffa89f471e389f7165.mp4\n",
            "HTTP request from 154.208.41.17 to https://148d473a4f11b20c03889e63d0edd69b.serveo.net/media/93f9fe93edd497f85ed907a807d51b2a098f95ffa89f471e389f7165.mp4\n",
            "HTTP request from 154.208.41.17 to https://148d473a4f11b20c03889e63d0edd69b.serveo.net/media/93f9fe93edd497f85ed907a807d51b2a098f95ffa89f471e389f7165.mp4\n"
          ]
        }
      ],
      "source": [
        "!pip install streamlit -q\n",
        "import subprocess\n",
        "import threading\n",
        "import dlib\n",
        "# Function to run the Streamlit app\n",
        "def run_streamlit():\n",
        "    subprocess.run([\"streamlit\", \"run\", \"app.py\"])\n",
        "\n",
        "# Run Streamlit app in a separate thread\n",
        "thread = threading.Thread(target=run_streamlit)\n",
        "thread.start()\n",
        "# Create a tunnel using serveo.net\n",
        "!ssh -o StrictHostKeyChecking=no -R 80:localhost:8501 serveo.net"
      ]
    }
  ],
  "metadata": {
    "accelerator": "GPU",
    "colab": {
      "gpuType": "T4",
      "provenance": []
    },
    "kernelspec": {
      "display_name": "Python 3",
      "name": "python3"
    },
    "language_info": {
      "name": "python"
    }
  },
  "nbformat": 4,
  "nbformat_minor": 0
}